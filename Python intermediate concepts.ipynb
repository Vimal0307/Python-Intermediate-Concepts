{
 "cells": [
  {
   "cell_type": "markdown",
   "metadata": {},
   "source": [
    "# Python Intermediate Concepts"
   ]
  },
  {
   "cell_type": "markdown",
   "metadata": {},
   "source": [
    "## Hi all hope so you all have gone through the basics of python which i uploaded in my previous notebook, now let us go to the next step and try to see some more operations in python"
   ]
  },
  {
   "cell_type": "markdown",
   "metadata": {},
   "source": [
    "## Exception handling"
   ]
  },
  {
   "cell_type": "markdown",
   "metadata": {},
   "source": [
    "What is exception first?? \n",
    "\n",
    "Exception is nothing but errors in a program\n",
    "\n",
    "The question which people may rise is......Ok,if there is an error in a program we can debug it,what is handling the error means?\n",
    "\n",
    "If that is the question stay chill and here is the answer for that\n",
    "\n",
    "While we study programming in our high school and during graduation we came across error or exceptions during writing a code, but when an error is happened the main task of us is to fix it\n",
    "\n",
    "Now that will not be the case in a realtime application,here is one example, if something that goes wrong is in your system, you should give a good message to the end user. You should tell him what are the next steps he can take. If let's say, your system expects a file to be there, and the file was not, you should tell the user: \"Hey! The file was not there, That's the reason why the program terminated\". But if we did not handle this exception it will throw error \n",
    "\n",
    "So inorder to do this python is having a feature called as \"Exception handling\".\n",
    "\n",
    "We can handle these kinds of error and give the user the next flow without terminating with this error\n",
    "\n",
    "Now let us see one example through python code"
   ]
  },
  {
   "cell_type": "markdown",
   "metadata": {},
   "source": [
    "Let's look at a variety of exceptions.\n",
    "\n",
    "Let's do 1/0. What do you think will happen?"
   ]
  },
  {
   "cell_type": "code",
   "execution_count": 17,
   "metadata": {},
   "outputs": [
    {
     "ename": "ZeroDivisionError",
     "evalue": "division by zero",
     "output_type": "error",
     "traceback": [
      "\u001b[1;31m---------------------------------------------------------------------------\u001b[0m",
      "\u001b[1;31mZeroDivisionError\u001b[0m                         Traceback (most recent call last)",
      "\u001b[1;32m<ipython-input-17-9e1622b385b6>\u001b[0m in \u001b[0;36m<module>\u001b[1;34m\u001b[0m\n\u001b[1;32m----> 1\u001b[1;33m \u001b[1;36m1\u001b[0m\u001b[1;33m/\u001b[0m\u001b[1;36m0\u001b[0m\u001b[1;33m\u001b[0m\u001b[1;33m\u001b[0m\u001b[0m\n\u001b[0m",
      "\u001b[1;31mZeroDivisionError\u001b[0m: division by zero"
     ]
    }
   ],
   "source": [
    "1/0"
   ]
  },
  {
   "cell_type": "code",
   "execution_count": 18,
   "metadata": {},
   "outputs": [
    {
     "ename": "ZeroDivisionError",
     "evalue": "division by zero",
     "output_type": "error",
     "traceback": [
      "\u001b[1;31m---------------------------------------------------------------------------\u001b[0m",
      "\u001b[1;31mZeroDivisionError\u001b[0m                         Traceback (most recent call last)",
      "\u001b[1;32m<ipython-input-18-b70c27288b82>\u001b[0m in \u001b[0;36m<module>\u001b[1;34m\u001b[0m\n\u001b[0;32m      1\u001b[0m \u001b[0mi\u001b[0m \u001b[1;33m=\u001b[0m\u001b[1;36m0\u001b[0m\u001b[1;33m\u001b[0m\u001b[1;33m\u001b[0m\u001b[0m\n\u001b[1;32m----> 2\u001b[1;33m \u001b[0mj\u001b[0m \u001b[1;33m=\u001b[0m \u001b[1;36m10\u001b[0m\u001b[1;33m/\u001b[0m\u001b[0mi\u001b[0m\u001b[1;33m\u001b[0m\u001b[1;33m\u001b[0m\u001b[0m\n\u001b[0m",
      "\u001b[1;31mZeroDivisionError\u001b[0m: division by zero"
     ]
    }
   ],
   "source": [
    "i =0\n",
    "j = 10/i"
   ]
  },
  {
   "cell_type": "markdown",
   "metadata": {},
   "source": [
    "The result of this is undefined, and that's why an error is thrown: ZeroDivisionError."
   ]
  },
  {
   "cell_type": "code",
   "execution_count": 19,
   "metadata": {},
   "outputs": [
    {
     "ename": "TypeError",
     "evalue": "unsupported operand type(s) for +: 'int' and 'str'",
     "output_type": "error",
     "traceback": [
      "\u001b[1;31m---------------------------------------------------------------------------\u001b[0m",
      "\u001b[1;31mTypeError\u001b[0m                                 Traceback (most recent call last)",
      "\u001b[1;32m<ipython-input-19-82150feed70c>\u001b[0m in \u001b[0;36m<module>\u001b[1;34m\u001b[0m\n\u001b[1;32m----> 1\u001b[1;33m \u001b[1;36m2\u001b[0m \u001b[1;33m+\u001b[0m \u001b[1;34m'2'\u001b[0m\u001b[1;33m\u001b[0m\u001b[1;33m\u001b[0m\u001b[0m\n\u001b[0m",
      "\u001b[1;31mTypeError\u001b[0m: unsupported operand type(s) for +: 'int' and 'str'"
     ]
    }
   ],
   "source": [
    "2 + '2'"
   ]
  },
  {
   "cell_type": "markdown",
   "metadata": {},
   "source": [
    "It says \"TypeError: I don't know how to add 'int' to a 'str'\"."
   ]
  },
  {
   "cell_type": "markdown",
   "metadata": {},
   "source": [
    "Let's create a simple list of numbers: values = [1, '2']"
   ]
  },
  {
   "cell_type": "code",
   "execution_count": 20,
   "metadata": {},
   "outputs": [
    {
     "ename": "TypeError",
     "evalue": "unsupported operand type(s) for +: 'int' and 'str'",
     "output_type": "error",
     "traceback": [
      "\u001b[1;31m---------------------------------------------------------------------------\u001b[0m",
      "\u001b[1;31mTypeError\u001b[0m                                 Traceback (most recent call last)",
      "\u001b[1;32m<ipython-input-20-c34bef38a0be>\u001b[0m in \u001b[0;36m<module>\u001b[1;34m\u001b[0m\n\u001b[0;32m      1\u001b[0m \u001b[0mvalues\u001b[0m \u001b[1;33m=\u001b[0m \u001b[1;33m[\u001b[0m\u001b[1;36m1\u001b[0m\u001b[1;33m,\u001b[0m\u001b[1;34m'2'\u001b[0m\u001b[1;33m]\u001b[0m\u001b[1;33m\u001b[0m\u001b[1;33m\u001b[0m\u001b[0m\n\u001b[1;32m----> 2\u001b[1;33m \u001b[0msum\u001b[0m\u001b[1;33m(\u001b[0m\u001b[0mvalues\u001b[0m\u001b[1;33m)\u001b[0m\u001b[1;33m\u001b[0m\u001b[1;33m\u001b[0m\u001b[0m\n\u001b[0m",
      "\u001b[1;31mTypeError\u001b[0m: unsupported operand type(s) for +: 'int' and 'str'"
     ]
    }
   ],
   "source": [
    "values = [1,'2']\n",
    "sum(values)"
   ]
  },
  {
   "cell_type": "markdown",
   "metadata": {},
   "source": [
    "It says \"TypeError: I don't know how to add 'int' to a 'str'\"."
   ]
  },
  {
   "cell_type": "markdown",
   "metadata": {},
   "source": [
    "If you want to see the complete list of exceptions, you can import the builtins module, and do help(builtins)"
   ]
  },
  {
   "cell_type": "code",
   "execution_count": null,
   "metadata": {},
   "outputs": [],
   "source": [
    "import builtins\n",
    "help(builtins)"
   ]
  },
  {
   "cell_type": "markdown",
   "metadata": {},
   "source": [
    "So these gives you all the list of errors and exceptions which shows in python"
   ]
  },
  {
   "cell_type": "markdown",
   "metadata": {},
   "source": [
    "Now In this step, let's get started with understanding how to handle exceptions."
   ]
  },
  {
   "cell_type": "markdown",
   "metadata": {},
   "source": [
    "## Handling - try-except"
   ]
  },
  {
   "cell_type": "markdown",
   "metadata": {},
   "source": [
    "We know that 1/0 throws an error."
   ]
  },
  {
   "cell_type": "code",
   "execution_count": 22,
   "metadata": {},
   "outputs": [
    {
     "ename": "ZeroDivisionError",
     "evalue": "division by zero",
     "output_type": "error",
     "traceback": [
      "\u001b[1;31m---------------------------------------------------------------------------\u001b[0m",
      "\u001b[1;31mZeroDivisionError\u001b[0m                         Traceback (most recent call last)",
      "\u001b[1;32m<ipython-input-22-9e1622b385b6>\u001b[0m in \u001b[0;36m<module>\u001b[1;34m\u001b[0m\n\u001b[1;32m----> 1\u001b[1;33m \u001b[1;36m1\u001b[0m\u001b[1;33m/\u001b[0m\u001b[1;36m0\u001b[0m\u001b[1;33m\u001b[0m\u001b[1;33m\u001b[0m\u001b[0m\n\u001b[0m",
      "\u001b[1;31mZeroDivisionError\u001b[0m: division by zero"
     ]
    }
   ],
   "source": [
    "1/0"
   ]
  },
  {
   "cell_type": "markdown",
   "metadata": {},
   "source": [
    "When an exception occurs, program execution terminates, then and there. Unless, you handle the exception\n",
    "\n",
    "Even if we had a hundred lines of code right below it, not one of those would get executed. And that's why you would want to handle exceptions."
   ]
  },
  {
   "cell_type": "markdown",
   "metadata": {},
   "source": [
    "How can you do that? That's where the try block comes in."
   ]
  },
  {
   "cell_type": "markdown",
   "metadata": {},
   "source": [
    "\"try except\" has a simple syntax. You put the code you want to look out for exceptions in try. You would write the code to handle the exception in except block."
   ]
  },
  {
   "cell_type": "code",
   "execution_count": 23,
   "metadata": {},
   "outputs": [
    {
     "name": "stdout",
     "output_type": "stream",
     "text": [
      "Exception\n",
      "0\n"
     ]
    }
   ],
   "source": [
    "try:                        #we are trying if this output might come or not\n",
    "    i = 0\n",
    "    j = 10/i \n",
    "except:                     # if there is an exception it will go in except block and execute that part of the except part of the code\n",
    "    print(\"Exception\")\n",
    "    j = 0\n",
    "print(j)"
   ]
  },
  {
   "cell_type": "markdown",
   "metadata": {},
   "source": [
    "try:\n",
    "\n",
    "   You do your operations here;\n",
    "   \n",
    "   ......................\n",
    "   \n",
    "except:\n",
    "\n",
    "   If there is any exception, then execute this block.\n",
    "   \n",
    "   ......................\n",
    "\n",
    "else:\n",
    "\n",
    "   If there is no exception then execute this block. \n",
    "   "
   ]
  },
  {
   "cell_type": "code",
   "execution_count": 24,
   "metadata": {},
   "outputs": [
    {
     "name": "stdout",
     "output_type": "stream",
     "text": [
      "Second element = x5\n",
      "We have only 3 cars of BMW\n"
     ]
    }
   ],
   "source": [
    "a = ['330i', 'x5', 'M530i'] \n",
    "try:  \n",
    "    print (\"Second element =\",a[1])\n",
    "  \n",
    "    # Throws error since there are only 3 elements in list \n",
    "    print (\"Fourth element = \",a[3])\n",
    "  \n",
    "except: \n",
    "    print (\"We have only 3 cars of BMW\")"
   ]
  },
  {
   "cell_type": "markdown",
   "metadata": {},
   "source": [
    "So this is the very basic of exception handling and there are many concepts involved in exception handling but the ground truth is to understand the underlying concept on what exception handling is all about"
   ]
  },
  {
   "cell_type": "markdown",
   "metadata": {},
   "source": [
    "# File handling"
   ]
  },
  {
   "cell_type": "markdown",
   "metadata": {},
   "source": [
    "Allows users to handle files i.e., to read and write files,apart from read and write there are some more file handling operations\n"
   ]
  },
  {
   "cell_type": "markdown",
   "metadata": {},
   "source": [
    "Python has several functions for creating, reading, updating, and deleting files"
   ]
  },
  {
   "cell_type": "markdown",
   "metadata": {},
   "source": [
    "The key function for working with files in Python is the open() function."
   ]
  },
  {
   "cell_type": "markdown",
   "metadata": {},
   "source": [
    "The open() function takes two parameters; filename, and mode.\n",
    "\n",
    "There are four different methods (modes) for opening a file:"
   ]
  },
  {
   "cell_type": "markdown",
   "metadata": {},
   "source": [
    "\"r\" - Read - Default value. Opens a file for reading, error if the file does not exist\n",
    "\n",
    "\"a\" - Append - Opens a file for appending, creates the file if it does not exist\n",
    "\n",
    "\"w\" - Write - Opens a file for writing, creates the file if it does not exist\n",
    "\n",
    "\"x\" - Create - Creates the specified file, returns an error if the file exists"
   ]
  },
  {
   "cell_type": "markdown",
   "metadata": {},
   "source": [
    "To open a file we can use "
   ]
  },
  {
   "cell_type": "code",
   "execution_count": 41,
   "metadata": {},
   "outputs": [],
   "source": [
    "x = open(\"car manufacturers.txt\")  \n"
   ]
  },
  {
   "cell_type": "markdown",
   "metadata": {},
   "source": [
    "If you are opening a file make sure that the file is located in your current working directory.To check in what directroy we are currently working"
   ]
  },
  {
   "cell_type": "code",
   "execution_count": 42,
   "metadata": {},
   "outputs": [
    {
     "data": {
      "text/plain": [
       "'C:\\\\Users\\\\Pvimalkumar'"
      ]
     },
     "execution_count": 42,
     "metadata": {},
     "output_type": "execute_result"
    }
   ],
   "source": [
    "import os  #import os package and you can know in what directory your are working on and my file is also located in this directory\n",
    "os.getcwd()"
   ]
  },
  {
   "cell_type": "code",
   "execution_count": 49,
   "metadata": {},
   "outputs": [],
   "source": [
    "x = open(r\"C:\\Users\\Pvimalkumar\\Desktop\\car manufacturers.txt\") #or you have to provide entire path of your file"
   ]
  },
  {
   "cell_type": "code",
   "execution_count": 50,
   "metadata": {},
   "outputs": [
    {
     "data": {
      "text/plain": [
       "<_io.TextIOWrapper name='C:\\\\Users\\\\Pvimalkumar\\\\Desktop\\\\car manufacturers.txt' mode='r' encoding='cp1252'>"
      ]
     },
     "execution_count": 50,
     "metadata": {},
     "output_type": "execute_result"
    }
   ],
   "source": [
    "x"
   ]
  },
  {
   "cell_type": "code",
   "execution_count": 63,
   "metadata": {
    "scrolled": true
   },
   "outputs": [
    {
     "name": "stdout",
     "output_type": "stream",
     "text": [
      "\n",
      "Aston Martin\n",
      "Audi\n",
      "Bentley\n",
      "Benz\n",
      "BMW\n",
      "Bugatti\n",
      "Cadillac\n",
      "Chevrolet\n",
      "Chrysler\n",
      "Citroen\n",
      "Corvette\n",
      "DAF\n",
      "Dacia\n",
      "Daewoo\n",
      "Daihatsu\n",
      "Datsun\n",
      "De Lorean\n",
      "Dino\n",
      "Dodge\n",
      "Farboud\n",
      "Ferrari\n",
      "Fiat\n",
      "Ford\n",
      "Honda\n",
      "Hummer\n",
      "Hyundai\n",
      "Jaguar\n",
      "Jeep\n",
      "KIA\n",
      "Koenigsegg\n",
      "Lada\n",
      "Lamborghini\n",
      "Lancia\n",
      "Land Rover\n",
      "Lexus\n",
      "Ligier\n",
      "Lincoln\n",
      "Lotus\n",
      "Martini\n",
      "Maserati\n",
      "Maybach\n",
      "Mazda\n",
      "McLaren\n",
      "Mercedes\n",
      "Mercedes-Benz\n",
      "Mini\n",
      "Mitsubishi\n",
      "Nissan\n",
      "Noble\n",
      "Opel\n",
      "Peugeot\n",
      "Pontiac\n",
      "Porsche\n",
      "Renault\n",
      "Rolls-Royce\n",
      "Rover\n",
      "Saab\n",
      "Seat\n",
      "Skoda\n",
      "Smart\n",
      "Spyker\n",
      "Subaru\n",
      "Suzuki\n",
      "Toyota\n",
      "Vauxhall\n",
      "Volkswagen\n",
      "Volvo\n"
     ]
    }
   ],
   "source": [
    "# to read your file\n",
    "print(x.read())"
   ]
  },
  {
   "cell_type": "code",
   "execution_count": 65,
   "metadata": {},
   "outputs": [
    {
     "name": "stdout",
     "output_type": "stream",
     "text": [
      "Alfa \n"
     ]
    }
   ],
   "source": [
    "x = open(\"car manufacturers.txt\",\"r\")\n",
    "print(x.read(5))\n",
    "# reads first 5 words"
   ]
  },
  {
   "cell_type": "code",
   "execution_count": 66,
   "metadata": {},
   "outputs": [
    {
     "name": "stdout",
     "output_type": "stream",
     "text": [
      "Alfa Romeo\n",
      "\n"
     ]
    }
   ],
   "source": [
    "x = open(\"car manufacturers.txt\",\"r\")\n",
    "print(x.readline())\n",
    "#To read entire line"
   ]
  },
  {
   "cell_type": "code",
   "execution_count": 68,
   "metadata": {
    "scrolled": true
   },
   "outputs": [
    {
     "name": "stdout",
     "output_type": "stream",
     "text": [
      "Alfa Romeo\n",
      "\n",
      "Aston Martin\n",
      "\n",
      "Audi\n",
      "\n",
      "Bentley\n",
      "\n",
      "Benz\n",
      "\n",
      "BMW\n",
      "\n",
      "Bugatti\n",
      "\n",
      "Cadillac\n",
      "\n",
      "Chevrolet\n",
      "\n",
      "Chrysler\n",
      "\n",
      "Citroen\n",
      "\n",
      "Corvette\n",
      "\n",
      "DAF\n",
      "\n",
      "Dacia\n",
      "\n",
      "Daewoo\n",
      "\n",
      "Daihatsu\n",
      "\n",
      "Datsun\n",
      "\n",
      "De Lorean\n",
      "\n",
      "Dino\n",
      "\n",
      "Dodge\n",
      "\n",
      "Farboud\n",
      "\n",
      "Ferrari\n",
      "\n",
      "Fiat\n",
      "\n",
      "Ford\n",
      "\n",
      "Honda\n",
      "\n",
      "Hummer\n",
      "\n",
      "Hyundai\n",
      "\n",
      "Jaguar\n",
      "\n",
      "Jeep\n",
      "\n",
      "KIA\n",
      "\n",
      "Koenigsegg\n",
      "\n",
      "Lada\n",
      "\n",
      "Lamborghini\n",
      "\n",
      "Lancia\n",
      "\n",
      "Land Rover\n",
      "\n",
      "Lexus\n",
      "\n",
      "Ligier\n",
      "\n",
      "Lincoln\n",
      "\n",
      "Lotus\n",
      "\n",
      "Martini\n",
      "\n",
      "Maserati\n",
      "\n",
      "Maybach\n",
      "\n",
      "Mazda\n",
      "\n",
      "McLaren\n",
      "\n",
      "Mercedes\n",
      "\n",
      "Mercedes-Benz\n",
      "\n",
      "Mini\n",
      "\n",
      "Mitsubishi\n",
      "\n",
      "Nissan\n",
      "\n",
      "Noble\n",
      "\n",
      "Opel\n",
      "\n",
      "Peugeot\n",
      "\n",
      "Pontiac\n",
      "\n",
      "Porsche\n",
      "\n",
      "Renault\n",
      "\n",
      "Rolls-Royce\n",
      "\n",
      "Rover\n",
      "\n",
      "Saab\n",
      "\n",
      "Seat\n",
      "\n",
      "Skoda\n",
      "\n",
      "Smart\n",
      "\n",
      "Spyker\n",
      "\n",
      "Subaru\n",
      "\n",
      "Suzuki\n",
      "\n",
      "Toyota\n",
      "\n",
      "Vauxhall\n",
      "\n",
      "Volkswagen\n",
      "\n",
      "Volvo\n"
     ]
    }
   ],
   "source": [
    "x = open(\"car manufacturers.txt\",\"r\")\n",
    "for i in x:\n",
    "  print(i)\n",
    "#to print all letters"
   ]
  },
  {
   "cell_type": "markdown",
   "metadata": {},
   "source": [
    "### Close Files"
   ]
  },
  {
   "cell_type": "markdown",
   "metadata": {},
   "source": [
    "We must always close the file once it is opened"
   ]
  },
  {
   "cell_type": "code",
   "execution_count": 72,
   "metadata": {},
   "outputs": [],
   "source": [
    "x = open(\"car manufacturers.txt\",\"r\")\n",
    "x.close()    #the file will be closed"
   ]
  },
  {
   "cell_type": "markdown",
   "metadata": {},
   "source": [
    "### Create a New File"
   ]
  },
  {
   "cell_type": "markdown",
   "metadata": {},
   "source": [
    "To create a new file in Python, use open() method"
   ]
  },
  {
   "cell_type": "markdown",
   "metadata": {},
   "source": [
    "Here are the following parameters for open() method:\n",
    "    \n",
    "\"x\" - Create - will create a file, returns an error if the file exist\n",
    "\n",
    "\"a\" - Append - will create a file if the specified file does not exist\n",
    "\n",
    "\"w\" - Write - will create a file if the specified file does not exist"
   ]
  },
  {
   "cell_type": "code",
   "execution_count": 85,
   "metadata": {},
   "outputs": [],
   "source": [
    "cars = open(\"wheels.txt\", \"x\")"
   ]
  },
  {
   "cell_type": "markdown",
   "metadata": {},
   "source": [
    "A new file will be created in directory"
   ]
  },
  {
   "cell_type": "markdown",
   "metadata": {},
   "source": [
    "### Delete a File"
   ]
  },
  {
   "cell_type": "code",
   "execution_count": 90,
   "metadata": {},
   "outputs": [],
   "source": [
    "# To remove mycars text file\n",
    "import os\n",
    "os.remove(\"mycars.txt\")"
   ]
  },
  {
   "cell_type": "markdown",
   "metadata": {},
   "source": [
    "Now the file will be deleted"
   ]
  },
  {
   "cell_type": "code",
   "execution_count": 91,
   "metadata": {},
   "outputs": [],
   "source": [
    "# To remove the folder in directory\n",
    "import os\n",
    "os.rmdir(\"foldername\")"
   ]
  },
  {
   "cell_type": "markdown",
   "metadata": {},
   "source": [
    "The folder gets deleted"
   ]
  },
  {
   "cell_type": "markdown",
   "metadata": {},
   "source": [
    "## Now let us see some more concepts in python"
   ]
  },
  {
   "cell_type": "markdown",
   "metadata": {},
   "source": [
    "## Python Recursion"
   ]
  },
  {
   "cell_type": "markdown",
   "metadata": {},
   "source": [
    "### What is recursion?????"
   ]
  },
  {
   "cell_type": "markdown",
   "metadata": {},
   "source": [
    "Recursion means \"repetitive\" it gets repeated everytime. So what are we going to do here by repeating the same process, and there is huge use cases where recursion is used and i will say how recursion works with a general example"
   ]
  },
  {
   "cell_type": "markdown",
   "metadata": {},
   "source": [
    "Now here is a program which uses recursion, as we discussed recursion means a repetitve but to go technically in programming recursion is calling a function inside a function, it might sound confusing but look at the code below"
   ]
  },
  {
   "cell_type": "code",
   "execution_count": 100,
   "metadata": {},
   "outputs": [
    {
     "name": "stdout",
     "output_type": "stream",
     "text": [
      "0 1 1 2 3 5 8 "
     ]
    }
   ],
   "source": [
    "#Here is a example of recursion program\n",
    "def a(n):   # <-----This is the function i created\n",
    "  if n==0:\n",
    "    return 0\n",
    "  elif n==1:\n",
    "    return 1\n",
    "  else:\n",
    "    return a(n-1)+a(n-2)   #<---- here the declared function is called again and subtracted with value\n",
    "\n",
    "for i in range(0,7):\n",
    "  print(a(i),end=\" \")"
   ]
  },
  {
   "attachments": {},
   "cell_type": "markdown",
   "metadata": {},
   "source": [
    "So what happens in this program is I'm defining a function named a(n) and n is the parameter here.\n",
    "\n",
    "Next i'm passing a condition if n (the parameter) is equal to 0 it must return 0 ,which is if i give n=0 it will return 0\n",
    "\n",
    "Same as if i give n=1 it will return 1 which is the next condition\n",
    "\n",
    "And here is the concept comes if i give the value of n which is nethier o nor 1 it will go into a(n-1)+a(n-2)\n",
    "\n",
    "So for example if i give n=3 means it goes into as a(3-1)+a(3-2) which becomes a(2)+a(1) where a(2) goes into function again and a(1) output as 1... \n",
    "\n",
    "Please refer the calculation which i uploaded in the same repository which will give you more clarity\n",
    "\n",
    "\n"
   ]
  },
  {
   "cell_type": "markdown",
   "metadata": {},
   "source": [
    "So this concept of going into function again and again until some condition becomes true it keeps printing and this concept is called as recursion"
   ]
  },
  {
   "cell_type": "markdown",
   "metadata": {},
   "source": [
    "Hope so i somehow tried to make you understand what recursion is all about"
   ]
  },
  {
   "cell_type": "markdown",
   "metadata": {},
   "source": [
    "### Global keyword in function"
   ]
  },
  {
   "cell_type": "markdown",
   "metadata": {},
   "source": [
    "In python when defining a function there is a rule where we cannot alter or make changes to a variable which is outside the function......OOPS but what can we do if there is any case to use the variable outside the function???? And python doesn't leaves our hands just like that, it gives one feature called \"global\" which is a keyword where we can use this keyword to access the variables which are outside the function..COOL RIGHT!!!!!!!!"
   ]
  },
  {
   "cell_type": "markdown",
   "metadata": {},
   "source": [
    "Now let us see how it works"
   ]
  },
  {
   "cell_type": "code",
   "execution_count": 112,
   "metadata": {},
   "outputs": [],
   "source": [
    "x = 37 # global variable\n",
    "    \n",
    "def num():\n",
    "    x += 2 # Incrementing x by 2\n",
    "    print(x)"
   ]
  },
  {
   "cell_type": "code",
   "execution_count": 113,
   "metadata": {},
   "outputs": [
    {
     "ename": "UnboundLocalError",
     "evalue": "local variable 'x' referenced before assignment",
     "output_type": "error",
     "traceback": [
      "\u001b[1;31m---------------------------------------------------------------------------\u001b[0m",
      "\u001b[1;31mUnboundLocalError\u001b[0m                         Traceback (most recent call last)",
      "\u001b[1;32m<ipython-input-113-c91ff519afcc>\u001b[0m in \u001b[0;36m<module>\u001b[1;34m\u001b[0m\n\u001b[1;32m----> 1\u001b[1;33m \u001b[0mnum\u001b[0m\u001b[1;33m(\u001b[0m\u001b[1;33m)\u001b[0m\u001b[1;33m\u001b[0m\u001b[1;33m\u001b[0m\u001b[0m\n\u001b[0m",
      "\u001b[1;32m<ipython-input-112-37594b4d6608>\u001b[0m in \u001b[0;36mnum\u001b[1;34m()\u001b[0m\n\u001b[0;32m      2\u001b[0m \u001b[1;33m\u001b[0m\u001b[0m\n\u001b[0;32m      3\u001b[0m \u001b[1;32mdef\u001b[0m \u001b[0mnum\u001b[0m\u001b[1;33m(\u001b[0m\u001b[1;33m)\u001b[0m\u001b[1;33m:\u001b[0m\u001b[1;33m\u001b[0m\u001b[1;33m\u001b[0m\u001b[0m\n\u001b[1;32m----> 4\u001b[1;33m     \u001b[0mx\u001b[0m \u001b[1;33m+=\u001b[0m \u001b[1;36m2\u001b[0m \u001b[1;31m# Incrementing x by 2\u001b[0m\u001b[1;33m\u001b[0m\u001b[1;33m\u001b[0m\u001b[0m\n\u001b[0m\u001b[0;32m      5\u001b[0m     \u001b[0mprint\u001b[0m\u001b[1;33m(\u001b[0m\u001b[0mx\u001b[0m\u001b[1;33m)\u001b[0m\u001b[1;33m\u001b[0m\u001b[1;33m\u001b[0m\u001b[0m\n",
      "\u001b[1;31mUnboundLocalError\u001b[0m: local variable 'x' referenced before assignment"
     ]
    }
   ],
   "source": [
    "num()"
   ]
  },
  {
   "cell_type": "markdown",
   "metadata": {},
   "source": [
    "Look at what the error is ,This is because we can only access the global variable but cannot modify it from inside the function."
   ]
  },
  {
   "cell_type": "markdown",
   "metadata": {},
   "source": [
    "Now what can we do this to work??? Here is the solution"
   ]
  },
  {
   "cell_type": "code",
   "execution_count": 114,
   "metadata": {},
   "outputs": [],
   "source": [
    "x = 37 # global variable\n",
    "    \n",
    "def num():\n",
    "    global x #using global keyword to refer inside function\n",
    "    x += 2 # Incrementing x by 2\n",
    "    print(x)"
   ]
  },
  {
   "cell_type": "code",
   "execution_count": 115,
   "metadata": {},
   "outputs": [
    {
     "name": "stdout",
     "output_type": "stream",
     "text": [
      "39\n"
     ]
    }
   ],
   "source": [
    "num()"
   ]
  },
  {
   "cell_type": "markdown",
   "metadata": {},
   "source": [
    "Yeaaahh!!!!! It works now thanks for the global keyword Mr.Python....!!!"
   ]
  },
  {
   "cell_type": "markdown",
   "metadata": {},
   "source": [
    "### Decorators"
   ]
  },
  {
   "cell_type": "markdown",
   "metadata": {},
   "source": [
    "Come on now lets look at some cool feature in python which is decorators...Uhhhh are we going to decorate the program ???? Kind of decorating which means we are going to add extra features to it. "
   ]
  },
  {
   "cell_type": "markdown",
   "metadata": {},
   "source": [
    "But How and Why????"
   ]
  },
  {
   "cell_type": "markdown",
   "metadata": {},
   "source": [
    "Chill and i'm here to clear that doubt....Decorators is something used in a program when we wanted to add a feature to existing function without disturbing or making changes in it...."
   ]
  },
  {
   "cell_type": "markdown",
   "metadata": {},
   "source": [
    "Why we wanted to do so???"
   ]
  },
  {
   "cell_type": "markdown",
   "metadata": {},
   "source": [
    "Because when we have a code in our production server and we dont have access to change that code where we can only import the code and add a feature to it....In that time decorator can be used"
   ]
  },
  {
   "cell_type": "markdown",
   "metadata": {},
   "source": [
    "Now let us see how does it works ....Please refer the code below"
   ]
  },
  {
   "cell_type": "code",
   "execution_count": 120,
   "metadata": {},
   "outputs": [],
   "source": [
    "def sub(a,b):  #Consider this is the pre existing function, here we wanted to add a case where whichever value provided for parameters(a.b),it should take larger number as \"a\" and smaller number as \"b\"\n",
    "    print(a-b)\n",
    "\n",
    "#decorators \n",
    "def correct_sub(func):\n",
    "    def change_values(a,b):\n",
    "        if a<b:\n",
    "            a,b=b,a\n",
    "        return func(a,b)\n",
    "    return change_values"
   ]
  },
  {
   "cell_type": "code",
   "execution_count": 122,
   "metadata": {},
   "outputs": [
    {
     "name": "stdout",
     "output_type": "stream",
     "text": [
      "4\n"
     ]
    }
   ],
   "source": [
    "sub1=correct_sub(sub)\n",
    "sub1(3,7)"
   ]
  },
  {
   "cell_type": "markdown",
   "metadata": {},
   "source": [
    "Now inorder to do the process without changing the pre existing function we are creating a new function to swap the values a,b if the value of a is lesser than b "
   ]
  },
  {
   "cell_type": "markdown",
   "metadata": {},
   "source": [
    "For that we are passing a function itself as a parameter (that function is going to be the sub function)\n",
    "\n",
    "Then we define another function to swap values for the mentioned condition\n",
    "\n",
    "Then finally return the function with paramters(Note: the number of parameters must be same as the pre existing function parameters)\n",
    "\n",
    "Then return the change value function also\n",
    "\n",
    "Now i'm creating a new object(i will discuss later about what an object is) named as sub1 which consists the added feature function\n",
    "\n",
    "Then pass the parameters\n",
    "\n",
    "And finally it works!!!!!!!!!!!"
   ]
  },
  {
   "cell_type": "markdown",
   "metadata": {},
   "source": [
    "## Now with this i have covered almost all important day to day usage of basic to intermediate concepts in python\n",
    "\n",
    "## These concepts are the most widely used during the process of any development work\n",
    "\n",
    "## Programming is all of a logic and when we are familiar with logics we can solve any kind of problem\n",
    "\n",
    "## And hence these are all the impotant python logics which developers use day in and day out\n",
    "\n",
    "## Thats it on Python basic and intermediate concepts and i will cover one of the core concept and the advanced concepts of python in next post which is the \"OBJECT ORIENTED PROGRAMMING IN PYTHON\"\n",
    "\n",
    "## Hope you got all concepts clear,if incase you have queries on python basics and intermediate concepts feel free to drop me a mail on <font color='red'>vimal.kumar477@gmail.com</font>"
   ]
  },
  {
   "cell_type": "markdown",
   "metadata": {},
   "source": [
    "## Thanks a lot"
   ]
  },
  {
   "cell_type": "markdown",
   "metadata": {},
   "source": [
    "## Regards"
   ]
  },
  {
   "cell_type": "markdown",
   "metadata": {},
   "source": [
    "### Vimal"
   ]
  },
  {
   "cell_type": "code",
   "execution_count": null,
   "metadata": {},
   "outputs": [],
   "source": []
  }
 ],
 "metadata": {
  "kernelspec": {
   "display_name": "Python 3",
   "language": "python",
   "name": "python3"
  },
  "language_info": {
   "codemirror_mode": {
    "name": "ipython",
    "version": 3
   },
   "file_extension": ".py",
   "mimetype": "text/x-python",
   "name": "python",
   "nbconvert_exporter": "python",
   "pygments_lexer": "ipython3",
   "version": "3.7.6"
  }
 },
 "nbformat": 4,
 "nbformat_minor": 4
}
